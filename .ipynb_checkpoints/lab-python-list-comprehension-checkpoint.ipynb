{
 "cells": [
  {
   "cell_type": "markdown",
   "id": "25d7736c-ba17-4aff-b6bb-66eba20fbf4e",
   "metadata": {},
   "source": [
    "# Lab | List, Dict and Set Comprehension"
   ]
  },
  {
   "cell_type": "markdown",
   "id": "7dd3cbde-675a-4b81-92c3-f728846dbe06",
   "metadata": {},
   "source": [
    "## Exercise: Managing Customer Orders Optimized with Comprehension"
   ]
  },
  {
   "cell_type": "markdown",
   "id": "5d500160-2fb7-4777-b5e4-09d45ebaf328",
   "metadata": {},
   "source": [
    "In the previous exercise, you developed a program to manage customer orders and inventory. Now, let's take it a step further and incorporate comprehension into your code.\n",
    "\n",
    "Follow the steps below to complete the exercise:\n",
    "\n",
    "1. Review your code from the previous exercise and identify areas where you can apply comprehension to simplify and streamline your code. \n",
    "\n",
    "    - *Hint: Apply it to initialize inventory, updating the inventory and printing the updated inventory.*\n",
    "    \n",
    "    - For example, in initializing the inventory, we could have:\n",
    "    \n",
    "        ```python\n",
    "        def initialize_inventory(products):\n",
    "            inventory = {product: int(input(f\"Enter the quantity of {product}s available: \")) for product in products}\n",
    "            return inventory\n",
    "\n",
    "        ```\n",
    "<br>\n",
    "    \n",
    "    \n",
    "2. Modify the function get_customer_orders so it prompts the user to enter the number of customer orders and gathers the product names using a loop and user input. Use comprehension.\n",
    "\n",
    "3. Add a new function to calculate the total price of the customer order. For each product in customer_orders, prompt the user to enter the price of that product. Use comprehension to calculate the total price. Note: assume that the user can only have 1 unit of each product.\n",
    "\n",
    "4. Modify the update_inventory function to remove the product from the inventory if its quantity becomes zero after fulfilling the customer orders. Use comprehension to filter out the products with a quantity of zero from the inventory.\n",
    "\n",
    "5. Print the total price of the customer order.\n",
    "\n",
    "Your code should produce output similar to the following:\n",
    "\n",
    "```python\n",
    "Enter the quantity of t-shirts available:  5\n",
    "Enter the quantity of mugs available:  4\n",
    "Enter the quantity of hats available:  3\n",
    "Enter the quantity of books available:  2\n",
    "Enter the quantity of keychains available:  1\n",
    "Enter the number of customer orders:  2\n",
    "Enter the name of a product that a customer wants to order:  hat\n",
    "Enter the name of a product that a customer wants to order:  keychain\n",
    "\n",
    "Order Statistics:\n",
    "Total Products Ordered: 2\n",
    "Percentage of Unique Products Ordered: 40.0\n",
    "\n",
    "Updated Inventory:\n",
    "t-shirt: 5\n",
    "mug: 4\n",
    "hat: 2\n",
    "book: 2\n",
    "Enter the price of keychain:  5\n",
    "Enter the price of hat:  10\n",
    "Total Price: 15.0\n",
    "\n",
    "```\n"
   ]
  },
  {
   "cell_type": "markdown",
   "id": "fd40c2b7-e7dc-4366-8323-3c831b8373d3",
   "metadata": {},
   "source": [
    "#####\n",
    "\n",
    "1. Review your code from the previous exercise and identify areas where you can apply comprehension to simplify and streamline your code.\n",
    "\n",
    "        Hint: Apply it to initialize inventory, updating the inventory and printing the updated inventory.\n",
    "\n",
    "        For example, in initializing the inventory, we could have:\n",
    "\n",
    "                def initialize_inventory(products):\n",
    "                    inventory = {product: int(input(f\"Enter the quantity of {product}s available: \")) for product in products}\n",
    "                    return inventory\n",
    "\n",
    "2. Modify the function get_customer_orders so it prompts the user to enter the number of customer orders and \n",
    "gathers the product names using a loop and user input. Use comprehension.\n",
    "\n",
    "3. Add a new function to calculate the total price of the customer order. For each product in customer_orders, \n",
    "prompt the user to enter the price of that product. Use comprehension to calculate the total price. \n",
    "Note: assume that the user can only have 1 unit of each product.\n",
    "\n",
    "4. Modify the update_inventory function to remove the product from the inventory if its quantity becomes zero after \n",
    "fulfilling the customer orders. Use comprehension to filter out the products with a quantity of zero from the inventory.\n",
    "\n",
    "5. Print the total price of the customer order.\n",
    "    \n",
    "#####"
   ]
  },
  {
   "cell_type": "code",
   "execution_count": 7,
   "id": "1c1087f1-347a-49cf-9e76-53bc32366e2f",
   "metadata": {},
   "outputs": [],
   "source": [
    "def initialize_inventory (products):\n",
    "    \"\"\"\n",
    "    updates dictionary {products:stock}, takes [products] as arg\n",
    "    \"\"\"\n",
    "    return inventory.update({product:int(input(f\"How many {product} do you have in stock:\")) for product in products})"
   ]
  },
  {
   "cell_type": "code",
   "execution_count": 8,
   "id": "8106d720-3dcc-4239-9ffa-b1f358e6f7cb",
   "metadata": {},
   "outputs": [],
   "source": [
    "## 2. Modify the function get_customer_orders so it prompts the user to enter the number of customer orders and \n",
    "#gathers the product names using a loop and user input. Use comprehension.\n",
    "\n",
    "def get_customer_orders():\n",
    "    ordernumber = int(input(\"Enter the quantity of customer orders: \"))\n",
    "    customer_orders =  {prompt_order() for options in range(ordernumber)}\n",
    "    \n",
    "    return customer_orders\n",
    "\n",
    "def prompt_order():\n",
    "    check = False\n",
    "    while check == False:\n",
    "        order = input(\"Enter the name of a product that the customer wants to order: \")\n",
    "        if order in products:\n",
    "            check = True\n",
    "        else:    \n",
    "            print(f\"Product name error! Please pick one from the option {products}\")        \n",
    "    return order"
   ]
  },
  {
   "cell_type": "code",
   "execution_count": 139,
   "id": "6a52aec0-821b-4cb2-85af-0c22ac35ee1f",
   "metadata": {},
   "outputs": [],
   "source": [
    "# 4. Modify the update_inventory function to remove the product from the inventory if its quantity becomes zero after \n",
    "# fulfilling the customer orders. Use comprehension to filter out the products with a quantity of zero from the inventory.\n",
    "\n",
    "def update_inventory(customer_orders, inventory):\n",
    "    \"\"\"\n",
    "    takes [customer_orders] and {inventory} as input, outputs updated {inventory}\n",
    "    \"\"\"\n",
    "    return inventory.update({i:inventory[i]-1 for i in customer_orders})\n",
    "    "
   ]
  },
  {
   "cell_type": "code",
   "execution_count": 141,
   "id": "21974296-2885-48cd-9272-cb1b87b45697",
   "metadata": {},
   "outputs": [],
   "source": [
    "def calculate_order_statistics(customer_orders, products):\n",
    "    t_order = len(customer_orders)\n",
    "    uniques = int(t_order/len(products) * 100)\n",
    "    order_stat = (t_order, uniques)\n",
    "\n",
    "    return order_stat\n",
    "    "
   ]
  },
  {
   "cell_type": "code",
   "execution_count": 143,
   "id": "400e7951-d7a4-4d16-954f-a58e72c5373d",
   "metadata": {},
   "outputs": [],
   "source": [
    "def print_order_statistics(order_statistics):\n",
    "    print(\"\\n\", \"Total order Statistics:\")\n",
    "    print(f\"   Total products ordered is: {order_statistics[0]}\",\"\\n\",f\"  Percentage of Unique Products Ordered: {order_statistics[1]} \", \"\\n\")"
   ]
  },
  {
   "cell_type": "code",
   "execution_count": 145,
   "id": "cfd9d6ce-2e33-40d6-b8f5-832aab774128",
   "metadata": {},
   "outputs": [],
   "source": [
    "def print_updated_inventory(inventory):\n",
    "    print(\"\\n\",\"Updated Inventory:\")\n",
    "    #for z in inventory:\n",
    "    #    print(\"    \" + z + \" : \" + str(inventory[z]))\n",
    "    [print(f\"   {item}:{quantity}\") for item, quantity in inventory.items() if quantity > 0]"
   ]
  },
  {
   "cell_type": "code",
   "execution_count": 147,
   "id": "286904a8-ad0a-4d7d-a163-63e8532bdc76",
   "metadata": {},
   "outputs": [],
   "source": [
    "# Add a new function to calculate the total price of the customer order. \n",
    "# For each product in customer_orders, prompt the user to enter the price of that product. \n",
    "# Use comprehension to calculate the total price. Note: assume that the user can only have 1 unit of each product.\n",
    "\n",
    "def total_price(customer_orders):\n",
    "    print(\"\\n\")\n",
    "    balance = [int(input(f\"Enter the price of {i}: \")) for i in customer_orders]\n",
    "    print(\"\\n\")\n",
    "    return balance\n",
    "\n",
    "\n"
   ]
  },
  {
   "cell_type": "code",
   "execution_count": 157,
   "id": "6a01fbfe-34a5-4307-90b1-3c74b479af59",
   "metadata": {},
   "outputs": [],
   "source": [
    "# 5. Print the total price of the customer order.\n",
    "\n",
    "def print_price(balance):\n",
    "    print(f\" Total price: {sum(balance)}\")\n"
   ]
  },
  {
   "cell_type": "code",
   "execution_count": null,
   "id": "84c1dd44-0b27-4515-9126-d1190880a521",
   "metadata": {},
   "outputs": [],
   "source": [
    "products = [\"t-shirt\", \"mug\", \"keychain\", \"book\", \"hat\"]\n",
    "inventory = {}\n",
    "initialize_inventory(products)\n",
    "\n",
    "cust_order = get_customer_orders()\n",
    "ostat = calculate_order_statistics(cust_order, products)\n",
    "print_order_statistics(ostat)\n",
    "update_inventory(cust_order, inventory)\n",
    "print_updated_inventory(inventory)\n",
    "balance = total_price(cust_order)\n",
    "print_price(balance)\n",
    "\n"
   ]
  },
  {
   "cell_type": "code",
   "execution_count": null,
   "id": "1e65e823-7676-4462-8174-63fb96ac9e32",
   "metadata": {},
   "outputs": [],
   "source": []
  }
 ],
 "metadata": {
  "kernelspec": {
   "display_name": "Python 3 (ipykernel)",
   "language": "python",
   "name": "python3"
  },
  "language_info": {
   "codemirror_mode": {
    "name": "ipython",
    "version": 3
   },
   "file_extension": ".py",
   "mimetype": "text/x-python",
   "name": "python",
   "nbconvert_exporter": "python",
   "pygments_lexer": "ipython3",
   "version": "3.12.4"
  }
 },
 "nbformat": 4,
 "nbformat_minor": 5
}
